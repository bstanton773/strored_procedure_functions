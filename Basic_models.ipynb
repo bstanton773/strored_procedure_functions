{
 "cells": [
  {
   "cell_type": "code",
   "execution_count": 5,
   "metadata": {},
   "outputs": [],
   "source": [
    "# Create Python Objects to represent the data in our models\n",
    "\n",
    "class Customer:\n",
    "    _all = []\n",
    "    \n",
    "    def __init__(self, customer_id, first_name, last_name, address, billing_info):\n",
    "        self.customer_id = customer_id\n",
    "        self.first_name = first_name\n",
    "        self.last_name = last_name\n",
    "        self.address = address\n",
    "        self.billing_info = billing_info\n",
    "        Customer._all.append(self)\n",
    "        \n",
    "    def __repr__(self):\n",
    "        return f'<Customer | {self.first_name} {self.last_name}>'\n",
    "\n",
    "cust1 = Customer(1, 'Brian', 'Stanton', '123 Real Street', '123 Real Street')\n",
    "cust2 = Customer(2, 'Derek', 'Hawkins', '555 Circle Drive', '555 Circle Drive')"
   ]
  },
  {
   "cell_type": "code",
   "execution_count": 6,
   "metadata": {},
   "outputs": [
    {
     "data": {
      "text/plain": [
       "[<Customer | Brian Stanton>, <Customer | Derek Hawkins>]"
      ]
     },
     "execution_count": 6,
     "metadata": {},
     "output_type": "execute_result"
    }
   ],
   "source": [
    "Customer._all"
   ]
  },
  {
   "cell_type": "code",
   "execution_count": 13,
   "metadata": {},
   "outputs": [],
   "source": [
    "class Order:\n",
    "    _all = []\n",
    "    \n",
    "    def __init__(self, order_id, order_date, subtotal, total, customer):\n",
    "        self.order_id = order_id\n",
    "        self.order_date = order_date\n",
    "        self.subtotal = subtotal\n",
    "        self.total = total\n",
    "        self.customer = customer\n",
    "        Order._all.append(self)\n",
    "        \n",
    "    def __repr__(self):\n",
    "        return f'<Order | {self.order_id}>'\n",
    "    \n",
    "    def add_late_fee(self, late_fee):\n",
    "        self.total += late_fee\n",
    "        \n",
    "new_order = Order(3, '2021-07-20', 9.99, 10.99, cust2)\n",
    "    "
   ]
  },
  {
   "cell_type": "code",
   "execution_count": 14,
   "metadata": {},
   "outputs": [
    {
     "data": {
      "text/plain": [
       "<Customer | Derek Hawkins>"
      ]
     },
     "execution_count": 14,
     "metadata": {},
     "output_type": "execute_result"
    }
   ],
   "source": [
    "new_order.customer"
   ]
  },
  {
   "cell_type": "code",
   "execution_count": 15,
   "metadata": {},
   "outputs": [
    {
     "name": "stdout",
     "output_type": "stream",
     "text": [
      "10.99\n",
      "11.99\n"
     ]
    }
   ],
   "source": [
    "print(new_order.total)\n",
    "new_order.add_late_fee(1.00)\n",
    "print(new_order.total)"
   ]
  }
 ],
 "metadata": {
  "kernelspec": {
   "display_name": "Python 3",
   "language": "python",
   "name": "python3"
  },
  "language_info": {
   "codemirror_mode": {
    "name": "ipython",
    "version": 3
   },
   "file_extension": ".py",
   "mimetype": "text/x-python",
   "name": "python",
   "nbconvert_exporter": "python",
   "pygments_lexer": "ipython3",
   "version": "3.8.5"
  }
 },
 "nbformat": 4,
 "nbformat_minor": 4
}
